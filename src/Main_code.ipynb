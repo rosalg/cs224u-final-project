{
 "cells": [
  {
   "cell_type": "code",
   "execution_count": 1,
   "metadata": {},
   "outputs": [],
   "source": [
    "import os\n",
    "import re\n",
    "import pandas as pd\n",
    "import numpy as np\n",
    "import sklearn"
   ]
  },
  {
   "cell_type": "code",
   "execution_count": 2,
   "metadata": {},
   "outputs": [],
   "source": [
    "def parse_convote_data(base_path):\n",
    "    file_names = os.listdir(base_path)\n",
    "    data = []\n",
    "    for fn in file_names:\n",
    "        # Get metadata; https://www.cs.cornell.edu/home/llee/data/convote/README.v1.1.txt\n",
    "        m = re.match(r\"(?P<bill>\\d\\d\\d)_(?P<speaker>\\d\\d\\d\\d\\d\\d)_\"\n",
    "                     + r\"(?P<page_num>\\d\\d\\d\\d)(?P<speech_num>\\d\\d\\d)_\"\n",
    "                     + r\"(?P<party>\\w)(?P<mentioned>\\w)(?P<vote>\\w)\\.txt\", fn)\n",
    "        bill = int(m.group(\"bill\"))\n",
    "        speaker = int(m.group(\"speaker\"))\n",
    "        bill_directly_mentioned = m.group(\"mentioned\")\n",
    "        vote = m.group(\"vote\")\n",
    "        # Get text\n",
    "        with open(base_path + fn) as f:\n",
    "            text = f.read()\n",
    "        punctuation = 0\n",
    "        if (\"?\" in text): \n",
    "            punctuation = 1\n",
    "        if (\"!\" in text): \n",
    "            punctuation = 2\n",
    "\n",
    "        # Save to dict\n",
    "        data.append([bill, speaker, bill_directly_mentioned, text, vote, punctuation])  # base features\n",
    "\n",
    "    df = pd.DataFrame(np.array(data), columns=[\"Bill number\", \"Speaker\", \"Bill mentioned\",\n",
    "                                               \"Text\", \"Vote\", \"Punctuation\"])\n",
    "    return df"
   ]
  },
  {
   "cell_type": "code",
   "execution_count": 3,
   "metadata": {},
   "outputs": [],
   "source": [
    "CONVOTE_DATA_DIR = \"../convote_v1.1/data_stage_one/\"\n",
    "MODE = \"training\"  # or \"test\" or \"development\""
   ]
  },
  {
   "cell_type": "code",
   "execution_count": 4,
   "metadata": {},
   "outputs": [],
   "source": [
    "base_path = CONVOTE_DATA_DIR + MODE + \"_set/\"\n",
    "df = parse_convote_data(base_path)"
   ]
  },
  {
   "cell_type": "code",
   "execution_count": 5,
   "metadata": {},
   "outputs": [
    {
     "data": {
      "text/html": [
       "<div>\n",
       "<style scoped>\n",
       "    .dataframe tbody tr th:only-of-type {\n",
       "        vertical-align: middle;\n",
       "    }\n",
       "\n",
       "    .dataframe tbody tr th {\n",
       "        vertical-align: top;\n",
       "    }\n",
       "\n",
       "    .dataframe thead th {\n",
       "        text-align: right;\n",
       "    }\n",
       "</style>\n",
       "<table border=\"1\" class=\"dataframe\">\n",
       "  <thead>\n",
       "    <tr style=\"text-align: right;\">\n",
       "      <th></th>\n",
       "      <th>Bill number</th>\n",
       "      <th>Speaker</th>\n",
       "      <th>Bill mentioned</th>\n",
       "      <th>Text</th>\n",
       "      <th>Vote</th>\n",
       "      <th>Punctuation</th>\n",
       "    </tr>\n",
       "  </thead>\n",
       "  <tbody>\n",
       "    <tr>\n",
       "      <th>0</th>\n",
       "      <td>282</td>\n",
       "      <td>400436</td>\n",
       "      <td>M</td>\n",
       "      <td>mr. speaker , i would like to say a word about...</td>\n",
       "      <td>N</td>\n",
       "      <td>0</td>\n",
       "    </tr>\n",
       "    <tr>\n",
       "      <th>1</th>\n",
       "      <td>88</td>\n",
       "      <td>400272</td>\n",
       "      <td>O</td>\n",
       "      <td>mr. speaker , today we have some very clear ch...</td>\n",
       "      <td>N</td>\n",
       "      <td>0</td>\n",
       "    </tr>\n",
       "    <tr>\n",
       "      <th>2</th>\n",
       "      <td>38</td>\n",
       "      <td>400080</td>\n",
       "      <td>O</td>\n",
       "      <td>mr. speaker , i yield myself such time as i ma...</td>\n",
       "      <td>N</td>\n",
       "      <td>0</td>\n",
       "    </tr>\n",
       "    <tr>\n",
       "      <th>3</th>\n",
       "      <td>132</td>\n",
       "      <td>400227</td>\n",
       "      <td>O</td>\n",
       "      <td>mr. chairman , i yield back the balance of my ...</td>\n",
       "      <td>N</td>\n",
       "      <td>0</td>\n",
       "    </tr>\n",
       "    <tr>\n",
       "      <th>4</th>\n",
       "      <td>282</td>\n",
       "      <td>400380</td>\n",
       "      <td>O</td>\n",
       "      <td>madam chairman , will the gentleman yield ? \\n</td>\n",
       "      <td>Y</td>\n",
       "      <td>1</td>\n",
       "    </tr>\n",
       "  </tbody>\n",
       "</table>\n",
       "</div>"
      ],
      "text/plain": [
       "  Bill number Speaker Bill mentioned  \\\n",
       "0         282  400436              M   \n",
       "1          88  400272              O   \n",
       "2          38  400080              O   \n",
       "3         132  400227              O   \n",
       "4         282  400380              O   \n",
       "\n",
       "                                                Text Vote Punctuation  \n",
       "0  mr. speaker , i would like to say a word about...    N           0  \n",
       "1  mr. speaker , today we have some very clear ch...    N           0  \n",
       "2  mr. speaker , i yield myself such time as i ma...    N           0  \n",
       "3  mr. chairman , i yield back the balance of my ...    N           0  \n",
       "4     madam chairman , will the gentleman yield ? \\n    Y           1  "
      ]
     },
     "execution_count": 5,
     "metadata": {},
     "output_type": "execute_result"
    }
   ],
   "source": [
    "df.head()"
   ]
  },
  {
   "cell_type": "code",
   "execution_count": 6,
   "metadata": {},
   "outputs": [
    {
     "name": "stdout",
     "output_type": "stream",
     "text": [
      "5660\n"
     ]
    }
   ],
   "source": [
    "print(len(df))"
   ]
  },
  {
   "cell_type": "code",
   "execution_count": 7,
   "metadata": {},
   "outputs": [
    {
     "name": "stdout",
     "output_type": "stream",
     "text": [
      "Number of debates: 38\n",
      "Bill #: 108\n",
      "# of speeches: 95\n",
      "# of speakers: 18\n",
      "Bill #: 13\n",
      "# of speeches: 72\n",
      "# of speakers: 10\n",
      "Bill #: 132\n",
      "# of speeches: 752\n",
      "# of speakers: 164\n"
     ]
    }
   ],
   "source": [
    "# Per-debate stats\n",
    "unique_bills = np.unique(df[\"Bill number\"])\n",
    "print(\"Number of debates:\", len(unique_bills))\n",
    "for ub in unique_bills[:3]:\n",
    "    print(\"Bill #:\", ub)\n",
    "    speeches = df[df[\"Bill number\"] == ub]\n",
    "    print(\"# of speeches:\", len(speeches))\n",
    "    unique_speakers = np.unique(speeches[\"Speaker\"])\n",
    "    print(\"# of speakers:\", len(unique_speakers))"
   ]
  },
  {
   "cell_type": "code",
   "execution_count": 8,
   "metadata": {},
   "outputs": [
    {
     "data": {
      "text/html": [
       "<div>\n",
       "<style scoped>\n",
       "    .dataframe tbody tr th:only-of-type {\n",
       "        vertical-align: middle;\n",
       "    }\n",
       "\n",
       "    .dataframe tbody tr th {\n",
       "        vertical-align: top;\n",
       "    }\n",
       "\n",
       "    .dataframe thead th {\n",
       "        text-align: right;\n",
       "    }\n",
       "</style>\n",
       "<table border=\"1\" class=\"dataframe\">\n",
       "  <thead>\n",
       "    <tr style=\"text-align: right;\">\n",
       "      <th></th>\n",
       "      <th>Bill number</th>\n",
       "      <th>Speaker</th>\n",
       "      <th>Bill mentioned</th>\n",
       "      <th>Text</th>\n",
       "      <th>Vote</th>\n",
       "      <th>Punctuation</th>\n",
       "    </tr>\n",
       "  </thead>\n",
       "  <tbody>\n",
       "    <tr>\n",
       "      <th>0</th>\n",
       "      <td>493</td>\n",
       "      <td>400036</td>\n",
       "      <td>O</td>\n",
       "      <td>mr. chairman , i yield myself such time as i m...</td>\n",
       "      <td>Y</td>\n",
       "      <td>0</td>\n",
       "    </tr>\n",
       "    <tr>\n",
       "      <th>1</th>\n",
       "      <td>493</td>\n",
       "      <td>400321</td>\n",
       "      <td>M</td>\n",
       "      <td>mr. chairman , i rise in strong support of the...</td>\n",
       "      <td>Y</td>\n",
       "      <td>0</td>\n",
       "    </tr>\n",
       "    <tr>\n",
       "      <th>2</th>\n",
       "      <td>199</td>\n",
       "      <td>400322</td>\n",
       "      <td>O</td>\n",
       "      <td>mr. chairman , i make a point of order against...</td>\n",
       "      <td>Y</td>\n",
       "      <td>0</td>\n",
       "    </tr>\n",
       "    <tr>\n",
       "      <th>3</th>\n",
       "      <td>493</td>\n",
       "      <td>400103</td>\n",
       "      <td>O</td>\n",
       "      <td>mr. chairman , i yield myself such time as i m...</td>\n",
       "      <td>N</td>\n",
       "      <td>0</td>\n",
       "    </tr>\n",
       "    <tr>\n",
       "      <th>4</th>\n",
       "      <td>199</td>\n",
       "      <td>400300</td>\n",
       "      <td>O</td>\n",
       "      <td>mr. speaker , i yield back the balance of my t...</td>\n",
       "      <td>N</td>\n",
       "      <td>0</td>\n",
       "    </tr>\n",
       "  </tbody>\n",
       "</table>\n",
       "</div>"
      ],
      "text/plain": [
       "  Bill number Speaker Bill mentioned  \\\n",
       "0         493  400036              O   \n",
       "1         493  400321              M   \n",
       "2         199  400322              O   \n",
       "3         493  400103              O   \n",
       "4         199  400300              O   \n",
       "\n",
       "                                                Text Vote Punctuation  \n",
       "0  mr. chairman , i yield myself such time as i m...    Y           0  \n",
       "1  mr. chairman , i rise in strong support of the...    Y           0  \n",
       "2  mr. chairman , i make a point of order against...    Y           0  \n",
       "3  mr. chairman , i yield myself such time as i m...    N           0  \n",
       "4  mr. speaker , i yield back the balance of my t...    N           0  "
      ]
     },
     "execution_count": 8,
     "metadata": {},
     "output_type": "execute_result"
    }
   ],
   "source": [
    "MODE = \"development\"  # can change to test\n",
    "new_base_path = CONVOTE_DATA_DIR + MODE + \"_set/\"\n",
    "testing_df = parse_convote_data(new_base_path)\n",
    "testing_df.head()"
   ]
  },
  {
   "cell_type": "code",
   "execution_count": 9,
   "metadata": {},
   "outputs": [],
   "source": [
    "from Model import *\n",
    "from Baseline import *\n",
    "from SimpleNN import *\n",
    "from SimpleSVM import *\n",
    "\n",
    "# TODO: add more..."
   ]
  },
  {
   "cell_type": "code",
   "execution_count": null,
   "metadata": {},
   "outputs": [],
   "source": [
    "# Train model\n",
    "model = SimpleNN()\n",
    "model.train(df)\n",
    "predicted = model.predict_votes(testing_df.drop(\"Vote\", axis=1))"
   ]
  },
  {
   "cell_type": "code",
   "execution_count": null,
   "metadata": {},
   "outputs": [],
   "source": [
    "# Evaluate model\n",
    "num_corr = 0\n",
    "num_tot = 0\n",
    "assert(len(predicted) == len(testing_df[\"Vote\"]))\n",
    "for i in range(len(predicted)):\n",
    "    num_tot += 1\n",
    "    if predicted[i] == testing_df[\"Vote\"][i]: num_corr += 1\n",
    "print(\"Accuracy of SimpleNN:\", num_corr / num_tot)"
   ]
  },
  {
   "cell_type": "code",
   "execution_count": null,
   "metadata": {},
   "outputs": [],
   "source": []
  }
 ],
 "metadata": {
  "kernelspec": {
   "display_name": "Python 3",
   "language": "python",
   "name": "python3"
  },
  "language_info": {
   "codemirror_mode": {
    "name": "ipython",
    "version": 3
   },
   "file_extension": ".py",
   "mimetype": "text/x-python",
   "name": "python",
   "nbconvert_exporter": "python",
   "pygments_lexer": "ipython3",
   "version": "3.7.3"
  }
 },
 "nbformat": 4,
 "nbformat_minor": 4
}
