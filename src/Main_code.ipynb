{
 "cells": [
  {
   "cell_type": "code",
   "execution_count": 1,
   "metadata": {},
   "outputs": [],
   "source": [
    "import os\n",
    "import re\n",
    "import pandas as pd\n",
    "import numpy as np\n",
    "import sklearn\n",
    "import torch\n",
    "from sklearn.preprocessing import StandardScaler"
   ]
  },
  {
   "cell_type": "code",
   "execution_count": 2,
   "metadata": {},
   "outputs": [],
   "source": [
    "def parse_convote_data(base_path):\n",
    "    file_names = os.listdir(base_path)\n",
    "    data = []\n",
    "    for fn in file_names:\n",
    "        # Get metadata; https://www.cs.cornell.edu/home/llee/data/convote/README.v1.1.txt\n",
    "        try:\n",
    "            m = re.match(r\"(?P<bill>\\d\\d\\d)_(?P<speaker>\\d\\d\\d\\d\\d\\d)_\"\n",
    "                         + r\"(?P<page_num>\\d\\d\\d\\d)(?P<speech_num>\\d\\d\\d)_\"\n",
    "                         + r\"(?P<party>\\w)(?P<mentioned>\\w)(?P<vote>\\w)\\.txt\", fn)\n",
    "            bill = int(m.group(\"bill\"))\n",
    "            speaker = int(m.group(\"speaker\"))\n",
    "            bill_directly_mentioned = m.group(\"mentioned\")\n",
    "            vote = m.group(\"vote\")\n",
    "            \n",
    "            # Get text\n",
    "            with open(base_path + fn) as f:\n",
    "                text = f.read()\n",
    "            punctuation = 0\n",
    "            if (\"?\" in text): \n",
    "                punctuation = 1\n",
    "            if (\"!\" in text): \n",
    "                punctuation = 2\n",
    "\n",
    "            # Save to dict\n",
    "            data.append([bill, speaker, bill_directly_mentioned, text, vote, punctuation])  # base features\n",
    "        except:\n",
    "            continue\n",
    "\n",
    "    df = pd.DataFrame(np.array(data), columns=[\"Bill number\", \"Speaker\", \"Bill mentioned\",\n",
    "                                               \"Text\", \"Vote\", \"Punctuation\"])\n",
    "    sc = StandardScaler()\n",
    "    df[[\"Punctuation\"]] = sc.fit_transform(df[[\"Punctuation\"]])\n",
    "    return df"
   ]
  },
  {
   "cell_type": "code",
   "execution_count": 3,
   "metadata": {},
   "outputs": [],
   "source": [
    "CONVOTE_DATA_DIR = \"../convote_v1.1/data_stage_one/\"\n",
    "MODE = \"training\"  # or \"test\" or \"development\""
   ]
  },
  {
   "cell_type": "code",
   "execution_count": 4,
   "metadata": {},
   "outputs": [],
   "source": [
    "base_path = CONVOTE_DATA_DIR + MODE + \"_set/\"\n",
    "df = parse_convote_data(base_path)"
   ]
  },
  {
   "cell_type": "code",
   "execution_count": 5,
   "metadata": {},
   "outputs": [
    {
     "name": "stdout",
     "output_type": "stream",
     "text": [
      "5660\n"
     ]
    }
   ],
   "source": [
    "print(len(df))"
   ]
  },
  {
   "cell_type": "code",
   "execution_count": 6,
   "metadata": {},
   "outputs": [
    {
     "name": "stdout",
     "output_type": "stream",
     "text": [
      "Number of debates: 38\n",
      "Bill #: 108\n",
      "# of speeches: 95\n",
      "# of speakers: 18\n",
      "Bill #: 13\n",
      "# of speeches: 72\n",
      "# of speakers: 10\n",
      "Bill #: 132\n",
      "# of speeches: 752\n",
      "# of speakers: 164\n"
     ]
    }
   ],
   "source": [
    "# Per-debate stats\n",
    "unique_bills = np.unique(df[\"Bill number\"])\n",
    "print(\"Number of debates:\", len(unique_bills))\n",
    "for ub in unique_bills[:3]:\n",
    "    print(\"Bill #:\", ub)\n",
    "    speeches = df[df[\"Bill number\"] == ub]\n",
    "    print(\"# of speeches:\", len(speeches))\n",
    "    unique_speakers = np.unique(speeches[\"Speaker\"])\n",
    "    print(\"# of speakers:\", len(unique_speakers))"
   ]
  },
  {
   "cell_type": "code",
   "execution_count": 7,
   "metadata": {},
   "outputs": [
    {
     "data": {
      "text/html": [
       "<div>\n",
       "<style scoped>\n",
       "    .dataframe tbody tr th:only-of-type {\n",
       "        vertical-align: middle;\n",
       "    }\n",
       "\n",
       "    .dataframe tbody tr th {\n",
       "        vertical-align: top;\n",
       "    }\n",
       "\n",
       "    .dataframe thead th {\n",
       "        text-align: right;\n",
       "    }\n",
       "</style>\n",
       "<table border=\"1\" class=\"dataframe\">\n",
       "  <thead>\n",
       "    <tr style=\"text-align: right;\">\n",
       "      <th></th>\n",
       "      <th>Bill number</th>\n",
       "      <th>Speaker</th>\n",
       "      <th>Bill mentioned</th>\n",
       "      <th>Text</th>\n",
       "      <th>Vote</th>\n",
       "      <th>Punctuation</th>\n",
       "    </tr>\n",
       "  </thead>\n",
       "  <tbody>\n",
       "    <tr>\n",
       "      <th>0</th>\n",
       "      <td>493</td>\n",
       "      <td>400036</td>\n",
       "      <td>O</td>\n",
       "      <td>mr. chairman , i yield myself such time as i m...</td>\n",
       "      <td>Y</td>\n",
       "      <td>-0.494715</td>\n",
       "    </tr>\n",
       "    <tr>\n",
       "      <th>1</th>\n",
       "      <td>493</td>\n",
       "      <td>400321</td>\n",
       "      <td>M</td>\n",
       "      <td>mr. chairman , i rise in strong support of the...</td>\n",
       "      <td>Y</td>\n",
       "      <td>-0.494715</td>\n",
       "    </tr>\n",
       "    <tr>\n",
       "      <th>2</th>\n",
       "      <td>199</td>\n",
       "      <td>400322</td>\n",
       "      <td>O</td>\n",
       "      <td>mr. chairman , i make a point of order against...</td>\n",
       "      <td>Y</td>\n",
       "      <td>-0.494715</td>\n",
       "    </tr>\n",
       "    <tr>\n",
       "      <th>3</th>\n",
       "      <td>493</td>\n",
       "      <td>400103</td>\n",
       "      <td>O</td>\n",
       "      <td>mr. chairman , i yield myself such time as i m...</td>\n",
       "      <td>N</td>\n",
       "      <td>-0.494715</td>\n",
       "    </tr>\n",
       "    <tr>\n",
       "      <th>4</th>\n",
       "      <td>199</td>\n",
       "      <td>400300</td>\n",
       "      <td>O</td>\n",
       "      <td>mr. speaker , i yield back the balance of my t...</td>\n",
       "      <td>N</td>\n",
       "      <td>-0.494715</td>\n",
       "    </tr>\n",
       "  </tbody>\n",
       "</table>\n",
       "</div>"
      ],
      "text/plain": [
       "  Bill number Speaker Bill mentioned  \\\n",
       "0         493  400036              O   \n",
       "1         493  400321              M   \n",
       "2         199  400322              O   \n",
       "3         493  400103              O   \n",
       "4         199  400300              O   \n",
       "\n",
       "                                                Text Vote Punctuation  \n",
       "0  mr. chairman , i yield myself such time as i m...    Y   -0.494715  \n",
       "1  mr. chairman , i rise in strong support of the...    Y   -0.494715  \n",
       "2  mr. chairman , i make a point of order against...    Y   -0.494715  \n",
       "3  mr. chairman , i yield myself such time as i m...    N   -0.494715  \n",
       "4  mr. speaker , i yield back the balance of my t...    N   -0.494715  "
      ]
     },
     "execution_count": 7,
     "metadata": {},
     "output_type": "execute_result"
    }
   ],
   "source": [
    "MODE = \"development\"  # can change to test\n",
    "new_base_path = CONVOTE_DATA_DIR + MODE + \"_set/\"\n",
    "testing_df = parse_convote_data(new_base_path)\n",
    "testing_df.head()"
   ]
  },
  {
   "cell_type": "code",
   "execution_count": 8,
   "metadata": {},
   "outputs": [],
   "source": [
    "from Model import *\n",
    "from Baseline import *\n",
    "from SimpleNN import *\n",
    "from SimpleSVM import *\n",
    "\n",
    "# TODO: add more..."
   ]
  },
  {
   "cell_type": "code",
   "execution_count": 9,
   "metadata": {},
   "outputs": [],
   "source": [
    "# Train model\n",
    "model = Baseline()\n",
    "model.train(df)\n",
    "predicted = model.predict_votes(testing_df.drop(\"Vote\", axis=1))"
   ]
  },
  {
   "cell_type": "code",
   "execution_count": 10,
   "metadata": {},
   "outputs": [
    {
     "name": "stdout",
     "output_type": "stream",
     "text": [
      "Accuracy of SimpleNN: 0.7008547008547008\n"
     ]
    }
   ],
   "source": [
    "# Evaluate model\n",
    "num_corr = 0\n",
    "num_tot = 0\n",
    "assert(len(predicted) == len(testing_df[\"Vote\"]))\n",
    "for i in range(len(predicted)):\n",
    "    num_tot += 1\n",
    "    if predicted[i] == testing_df[\"Vote\"][i]: num_corr += 1\n",
    "print(\"Accuracy of SimpleNN:\", num_corr / num_tot)"
   ]
  },
  {
   "cell_type": "code",
   "execution_count": 11,
   "metadata": {},
   "outputs": [],
   "source": []
  },
  {
   "cell_type": "code",
   "execution_count": 12,
   "metadata": {},
   "outputs": [
    {
     "data": {
      "text/html": [
       "<div>\n",
       "<style scoped>\n",
       "    .dataframe tbody tr th:only-of-type {\n",
       "        vertical-align: middle;\n",
       "    }\n",
       "\n",
       "    .dataframe tbody tr th {\n",
       "        vertical-align: top;\n",
       "    }\n",
       "\n",
       "    .dataframe thead th {\n",
       "        text-align: right;\n",
       "    }\n",
       "</style>\n",
       "<table border=\"1\" class=\"dataframe\">\n",
       "  <thead>\n",
       "    <tr style=\"text-align: right;\">\n",
       "      <th></th>\n",
       "      <th>Bill number</th>\n",
       "      <th>Speaker</th>\n",
       "      <th>Bill mentioned</th>\n",
       "      <th>Text</th>\n",
       "      <th>Vote</th>\n",
       "      <th>Punctuation</th>\n",
       "    </tr>\n",
       "  </thead>\n",
       "  <tbody>\n",
       "    <tr>\n",
       "      <th>0</th>\n",
       "      <td>282</td>\n",
       "      <td>400436</td>\n",
       "      <td>M</td>\n",
       "      <td>mr. speaker , i would like to say a word about...</td>\n",
       "      <td>N</td>\n",
       "      <td>-0.509268</td>\n",
       "    </tr>\n",
       "    <tr>\n",
       "      <th>1</th>\n",
       "      <td>88</td>\n",
       "      <td>400272</td>\n",
       "      <td>O</td>\n",
       "      <td>mr. speaker , today we have some very clear ch...</td>\n",
       "      <td>N</td>\n",
       "      <td>-0.509268</td>\n",
       "    </tr>\n",
       "    <tr>\n",
       "      <th>2</th>\n",
       "      <td>38</td>\n",
       "      <td>400080</td>\n",
       "      <td>O</td>\n",
       "      <td>mr. speaker , i yield myself such time as i ma...</td>\n",
       "      <td>N</td>\n",
       "      <td>-0.509268</td>\n",
       "    </tr>\n",
       "    <tr>\n",
       "      <th>3</th>\n",
       "      <td>132</td>\n",
       "      <td>400227</td>\n",
       "      <td>O</td>\n",
       "      <td>mr. chairman , i yield back the balance of my ...</td>\n",
       "      <td>N</td>\n",
       "      <td>-0.509268</td>\n",
       "    </tr>\n",
       "    <tr>\n",
       "      <th>4</th>\n",
       "      <td>282</td>\n",
       "      <td>400380</td>\n",
       "      <td>O</td>\n",
       "      <td>madam chairman , will the gentleman yield ? \\n</td>\n",
       "      <td>Y</td>\n",
       "      <td>1.851465</td>\n",
       "    </tr>\n",
       "    <tr>\n",
       "      <th>...</th>\n",
       "      <td>...</td>\n",
       "      <td>...</td>\n",
       "      <td>...</td>\n",
       "      <td>...</td>\n",
       "      <td>...</td>\n",
       "      <td>...</td>\n",
       "    </tr>\n",
       "    <tr>\n",
       "      <th>5655</th>\n",
       "      <td>321</td>\n",
       "      <td>400028</td>\n",
       "      <td>M</td>\n",
       "      <td>mr. chairman , due to a previous and unavoidab...</td>\n",
       "      <td>Y</td>\n",
       "      <td>-0.509268</td>\n",
       "    </tr>\n",
       "    <tr>\n",
       "      <th>5656</th>\n",
       "      <td>144</td>\n",
       "      <td>400365</td>\n",
       "      <td>O</td>\n",
       "      <td>mr. speaker , will the gentleman yield ? \\n</td>\n",
       "      <td>Y</td>\n",
       "      <td>1.851465</td>\n",
       "    </tr>\n",
       "    <tr>\n",
       "      <th>5657</th>\n",
       "      <td>635</td>\n",
       "      <td>400036</td>\n",
       "      <td>O</td>\n",
       "      <td>i assume so . \\n</td>\n",
       "      <td>Y</td>\n",
       "      <td>-0.509268</td>\n",
       "    </tr>\n",
       "    <tr>\n",
       "      <th>5658</th>\n",
       "      <td>88</td>\n",
       "      <td>400109</td>\n",
       "      <td>O</td>\n",
       "      <td>yes , i am in opposition . \\n</td>\n",
       "      <td>N</td>\n",
       "      <td>-0.509268</td>\n",
       "    </tr>\n",
       "    <tr>\n",
       "      <th>5659</th>\n",
       "      <td>31</td>\n",
       "      <td>400091</td>\n",
       "      <td>O</td>\n",
       "      <td>mr. chairman , i rise to oppose my friend 's a...</td>\n",
       "      <td>Y</td>\n",
       "      <td>1.851465</td>\n",
       "    </tr>\n",
       "  </tbody>\n",
       "</table>\n",
       "<p>5660 rows × 6 columns</p>\n",
       "</div>"
      ],
      "text/plain": [
       "     Bill number Speaker Bill mentioned  \\\n",
       "0            282  400436              M   \n",
       "1             88  400272              O   \n",
       "2             38  400080              O   \n",
       "3            132  400227              O   \n",
       "4            282  400380              O   \n",
       "...          ...     ...            ...   \n",
       "5655         321  400028              M   \n",
       "5656         144  400365              O   \n",
       "5657         635  400036              O   \n",
       "5658          88  400109              O   \n",
       "5659          31  400091              O   \n",
       "\n",
       "                                                   Text Vote Punctuation  \n",
       "0     mr. speaker , i would like to say a word about...    N   -0.509268  \n",
       "1     mr. speaker , today we have some very clear ch...    N   -0.509268  \n",
       "2     mr. speaker , i yield myself such time as i ma...    N   -0.509268  \n",
       "3     mr. chairman , i yield back the balance of my ...    N   -0.509268  \n",
       "4        madam chairman , will the gentleman yield ? \\n    Y    1.851465  \n",
       "...                                                 ...  ...         ...  \n",
       "5655  mr. chairman , due to a previous and unavoidab...    Y   -0.509268  \n",
       "5656        mr. speaker , will the gentleman yield ? \\n    Y    1.851465  \n",
       "5657                                   i assume so . \\n    Y   -0.509268  \n",
       "5658                      yes , i am in opposition . \\n    N   -0.509268  \n",
       "5659  mr. chairman , i rise to oppose my friend 's a...    Y    1.851465  \n",
       "\n",
       "[5660 rows x 6 columns]"
      ]
     },
     "execution_count": 12,
     "metadata": {},
     "output_type": "execute_result"
    }
   ],
   "source": [
    "df"
   ]
  },
  {
   "cell_type": "markdown",
   "metadata": {},
   "source": [
    "# Document similarity"
   ]
  },
  {
   "cell_type": "code",
   "execution_count": 155,
   "metadata": {},
   "outputs": [],
   "source": [
    "from sklearn.feature_extraction.text import TfidfVectorizer\n",
    "from sklearn import svm\n",
    "from scipy.spatial import distance\n",
    "from sklearn.linear_model import SGDClassifier\n",
    "from sklearn.linear_model import LinearRegression\n",
    "import matplotlib.pyplot as plt"
   ]
  },
  {
   "cell_type": "code",
   "execution_count": 34,
   "metadata": {},
   "outputs": [],
   "source": [
    "def get_bill_similarities(df):\n",
    "    def get_bill_text(bill_num: int):\n",
    "        docs = df[df[\"Bill number\"] == str(bill_num)]\n",
    "        out = \"\"\n",
    "        for doc in docs[\"Text\"]: out += doc\n",
    "        return out\n",
    "    \n",
    "    data = []\n",
    "    for bill_num in np.unique(df[\"Bill number\"]):\n",
    "        data.append(get_bill_text(int(bill_num)))\n",
    "\n",
    "    tfidf = TfidfVectorizer()\n",
    "    matrix = tfidf.fit_transform(data)\n",
    "    return matrix"
   ]
  },
  {
   "cell_type": "code",
   "execution_count": 64,
   "metadata": {},
   "outputs": [
    {
     "data": {
      "text/plain": [
       "0.08494107365812098"
      ]
     },
     "execution_count": 64,
     "metadata": {},
     "output_type": "execute_result"
    }
   ],
   "source": [
    "def get_document_distance(bill1: int, bill2: int, matrix, df, dist_func=distance.cosine):\n",
    "    \"\"\"Lower score is a smaller distance, i.e. more similar documents\"\"\"\n",
    "    unique_docs = list(np.unique(df[\"Bill number\"]))\n",
    "    ind1 = unique_docs.index(str(bill1))\n",
    "    ind2 = unique_docs.index(str(bill2))\n",
    "    vec1 = matrix[ind1].toarray()[0]\n",
    "    vec2 = matrix[ind2].toarray()[0]\n",
    "    assert(vec1.shape == vec2.shape)\n",
    "    \n",
    "    return dist_func(vec1, vec2)"
   ]
  },
  {
   "cell_type": "code",
   "execution_count": 70,
   "metadata": {
    "scrolled": true
   },
   "outputs": [
    {
     "name": "stdout",
     "output_type": "stream",
     "text": [
      "(38, 23417)\n",
      "Num of unique bills: 38\n"
     ]
    },
    {
     "data": {
      "text/plain": [
       "0.08494107365812098"
      ]
     },
     "execution_count": 70,
     "metadata": {},
     "output_type": "execute_result"
    }
   ],
   "source": [
    "matrix = get_bill_similarities(df)\n",
    "print(matrix.shape)\n",
    "print(\"Num of unique bills:\", len(np.unique(df[\"Bill number\"])))\n",
    "\n",
    "get_document_distance(88, 38, matrix, df)"
   ]
  },
  {
   "cell_type": "code",
   "execution_count": 126,
   "metadata": {},
   "outputs": [],
   "source": [
    "unique_docs = list(np.unique(df[\"Bill number\"]))\n",
    "distance_data = {}\n",
    "for i in range(len(unique_docs)):\n",
    "    for j in range(i + 1, len(unique_docs)):\n",
    "        tup = (int(unique_docs[i]), int(unique_docs[j]))\n",
    "        distance_data[tup] = get_document_distance(tup[0], tup[1], matrix, df, dist_func=distance.euclidean)"
   ]
  },
  {
   "cell_type": "code",
   "execution_count": 127,
   "metadata": {},
   "outputs": [
    {
     "name": "stdout",
     "output_type": "stream",
     "text": [
      "Max tfidf: 1.0121102553681278\n",
      "Min tfidf: 0.241751797157583\n"
     ]
    },
    {
     "data": {
      "image/png": "[encoded data removed]",
      "text/plain": [
       "<Figure size 432x288 with 1 Axes>"
      ]
     },
     "metadata": {
      "needs_background": "light"
     },
     "output_type": "display_data"
    }
   ],
   "source": [
    "vals = []\n",
    "for d in distance_data:\n",
    "    vals.append(distance_data[d])\n",
    "print(\"Max tfidf:\", np.max(vals))\n",
    "print(\"Min tfidf:\", np.min(vals))\n",
    "plt.hist(vals)\n",
    "plt.ylabel(\"Count\")\n",
    "plt.xlabel(\"TF-IDF scores\")\n",
    "plt.show()"
   ]
  },
  {
   "cell_type": "code",
   "execution_count": 171,
   "metadata": {},
   "outputs": [],
   "source": [
    "MIN_COMMON_SPEAKERS = \n",
    "\n",
    "def get_voting_similarity(bill1: int, bill2: int, df):\n",
    "    df1 = df[df[\"Bill number\"] == str(bill1)]\n",
    "    df2 = df[df[\"Bill number\"] == str(bill2)]\n",
    "    \n",
    "    speaker1 = np.unique(df1[\"Speaker\"])\n",
    "    speaker2 = np.unique(df2[\"Speaker\"])\n",
    "    common = []\n",
    "    for s in speaker1:\n",
    "        if s in speaker2: common.append(s)\n",
    "    #print(\"# Common speakers:\", len(common))\n",
    "    \n",
    "    if len(common) < MIN_COMMON_SPEAKERS: return None\n",
    "    \n",
    "    tot = 0\n",
    "    agree = 0\n",
    "    for s in common:\n",
    "        vote1 = df1[df1[\"Speaker\"] == s][\"Vote\"].iloc[0]\n",
    "        vote2 = df2[df2[\"Speaker\"] == s][\"Vote\"].iloc[0]\n",
    "        if vote1 == vote2: agree += 1\n",
    "        tot += 1\n",
    "    return agree / tot\n",
    "\n",
    "vote_data = {}\n",
    "for key in distance_data.keys():\n",
    "    sim = get_voting_similarity(key[0], key[1], df)\n",
    "    vote_data[key] = sim"
   ]
  },
  {
   "cell_type": "code",
   "execution_count": 172,
   "metadata": {},
   "outputs": [
    {
     "name": "stdout",
     "output_type": "stream",
     "text": [
      "Max similarity: 1.0\n",
      "Min similarity: 0.14285714285714285\n"
     ]
    },
    {
     "data": {
      "image/png": "[encoded data removed]",
      "text/plain": [
       "<Figure size 432x288 with 1 Axes>"
      ]
     },
     "metadata": {
      "needs_background": "light"
     },
     "output_type": "display_data"
    }
   ],
   "source": [
    "vals = []\n",
    "for d in vote_data:\n",
    "    if not vote_data[d]: continue\n",
    "    vals.append(vote_data[d])\n",
    "print(\"Max similarity:\", np.max(vals))\n",
    "print(\"Min similarity:\", np.min(vals))\n",
    "plt.hist(vals)\n",
    "plt.ylabel(\"Count\")\n",
    "plt.xlabel(\"Vote similarity scores\")\n",
    "plt.show()"
   ]
  },
  {
   "cell_type": "code",
   "execution_count": 173,
   "metadata": {},
   "outputs": [
    {
     "name": "stdout",
     "output_type": "stream",
     "text": [
      "m: -0.42677435254338575\n",
      "b: 1.0205816857755907\n"
     ]
    },
    {
     "data": {
      "image/png": "[encoded data removed]",
      "text/plain": [
       "<Figure size 432x288 with 1 Axes>"
      ]
     },
     "metadata": {
      "needs_background": "light"
     },
     "output_type": "display_data"
    }
   ],
   "source": [
    "# Now compare distance_data and vote_data\n",
    "vote_vals = []\n",
    "dist_vals = []\n",
    "for d in vote_data:\n",
    "    if not vote_data[d]: continue\n",
    "    vote_vals.append(vote_data[d])\n",
    "    dist_vals.append(distance_data[d])\n",
    "vote_vals = np.array(vote_vals).reshape(-1, 1)\n",
    "dist_vals = np.array(dist_vals).reshape(-1, 1)\n",
    "clf = LinearRegression().fit(dist_vals, vote_vals)\n",
    "print(\"m:\", clf.coef_[0][0])\n",
    "print(\"b:\", clf.intercept_[0])\n",
    "plt.plot(dist_vals, clf.predict(dist_vals), c=\"r\", label=\"Linear regression\")\n",
    "\n",
    "plt.scatter(dist_vals, vote_vals)\n",
    "plt.ylabel(\"Vote similarity scores\")\n",
    "plt.xlabel(\"TF-IDF scores\")\n",
    "plt.legend()\n",
    "plt.show()"
   ]
  },
  {
   "cell_type": "code",
   "execution_count": null,
   "metadata": {},
   "outputs": [],
   "source": []
  },
  {
   "cell_type": "code",
   "execution_count": null,
   "metadata": {},
   "outputs": [],
   "source": []
  }
 ],
 "metadata": {
  "kernelspec": {
   "display_name": "Python 3",
   "language": "python",
   "name": "python3"
  },
  "language_info": {
   "codemirror_mode": {
    "name": "ipython",
    "version": 3
   },
   "file_extension": ".py",
   "mimetype": "text/x-python",
   "name": "python",
   "nbconvert_exporter": "python",
   "pygments_lexer": "ipython3",
   "version": "3.8.8"
  }
 },
 "nbformat": 4,
 "nbformat_minor": 4
}
