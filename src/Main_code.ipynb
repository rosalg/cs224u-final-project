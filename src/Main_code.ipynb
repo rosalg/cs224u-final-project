{
 "cells": [
  {
   "cell_type": "code",
   "execution_count": 36,
   "metadata": {},
   "outputs": [],
   "source": [
    "import os\n",
    "import re\n",
    "import pandas as pd\n",
    "import numpy as np"
   ]
  },
  {
   "cell_type": "code",
   "execution_count": 18,
   "metadata": {},
   "outputs": [],
   "source": [
    "CONVOTE_DATA_DIR = \"../convote_v1.1/data_stage_one/\"\n",
    "MODE = \"training\"  # or \"test\" or \"development\""
   ]
  },
  {
   "cell_type": "code",
   "execution_count": 41,
   "metadata": {},
   "outputs": [],
   "source": [
    "def parse_convote_data(base_path):\n",
    "    file_names = os.listdir(base_path)\n",
    "    data = []\n",
    "    for fn in file_names:\n",
    "        # Get metadata; https://www.cs.cornell.edu/home/llee/data/convote/README.v1.1.txt\n",
    "        m = re.match(r\"(?P<bill>\\d\\d\\d)_(?P<speaker>\\d\\d\\d\\d\\d\\d)_\"\n",
    "                     + r\"(?P<page_num>\\d\\d\\d\\d)(?P<speech_num>\\d\\d\\d)_\"\n",
    "                     + r\"(?P<party>\\w)(?P<mentioned>\\w)(?P<vote>\\w)\\.txt\", fn)\n",
    "        bill = int(m.group(\"bill\"))\n",
    "        speaker = int(m.group(\"speaker\"))\n",
    "        bill_directly_mentioned = m.group(\"mentioned\")\n",
    "        vote = m.group(\"vote\")\n",
    "\n",
    "        # Get text\n",
    "        with open(base_path + fn) as f:\n",
    "            text = f.read()\n",
    "\n",
    "        # Save to dict\n",
    "        data.append([bill, speaker, bill_directly_mentioned, text, vote])  # base features\n",
    "\n",
    "    df = pd.DataFrame(np.array(data), columns=[\"Bill number\", \"Speaker\", \"Bill mentioned\", \"Text\", \"Vote\"])\n",
    "    return df"
   ]
  },
  {
   "cell_type": "code",
   "execution_count": 43,
   "metadata": {},
   "outputs": [],
   "source": [
    "base_path = CONVOTE_DATA_DIR + MODE + \"_set/\"\n",
    "df = parse_convote_data(base_path)"
   ]
  },
  {
   "cell_type": "code",
   "execution_count": 44,
   "metadata": {},
   "outputs": [
    {
     "name": "stdout",
     "output_type": "stream",
     "text": [
      "5660\n"
     ]
    }
   ],
   "source": [
    "print(len(df))"
   ]
  },
  {
   "cell_type": "code",
   "execution_count": 45,
   "metadata": {},
   "outputs": [
    {
     "name": "stdout",
     "output_type": "stream",
     "text": [
      "Number of debates: 38\n",
      "Bill #: 108\n",
      "# of speeches: 95\n",
      "# of speakers: 18\n",
      "Bill #: 13\n",
      "# of speeches: 72\n",
      "# of speakers: 10\n",
      "Bill #: 132\n",
      "# of speeches: 752\n",
      "# of speakers: 164\n"
     ]
    }
   ],
   "source": [
    "# Per-debate stats\n",
    "unique_bills = np.unique(df[\"Bill number\"])\n",
    "print(\"Number of debates:\", len(unique_bills))\n",
    "for ub in unique_bills[:3]:\n",
    "    print(\"Bill #:\", ub)\n",
    "    speeches = df[df[\"Bill number\"] == ub]\n",
    "    print(\"# of speeches:\", len(speeches))\n",
    "    unique_speakers = np.unique(speeches[\"Speaker\"])\n",
    "    print(\"# of speakers:\", len(unique_speakers))"
   ]
  },
  {
   "cell_type": "code",
   "execution_count": 46,
   "metadata": {},
   "outputs": [],
   "source": [
    "class Model:\n",
    "    def __init__(self):\n",
    "        pass\n",
    "    \n",
    "    def train(self, df : pd.DataFrame):\n",
    "        raise NotImplementedError()\n",
    "\n",
    "    def predict_votes(self, df : pd.DataFrame):\n",
    "        raise NotImplementedError()"
   ]
  },
  {
   "cell_type": "code",
   "execution_count": 48,
   "metadata": {},
   "outputs": [],
   "source": [
    "class Baseline(Model):\n",
    "    pass"
   ]
  },
  {
   "cell_type": "code",
   "execution_count": 49,
   "metadata": {},
   "outputs": [],
   "source": [
    "MODE = \"development\"  # can change to test\n",
    "base_path = CONVOTE_DATA_DIR + MODE + \"_set/\"\n",
    "testing_df = parse_convote_data(base_path)"
   ]
  },
  {
   "cell_type": "code",
   "execution_count": null,
   "metadata": {},
   "outputs": [],
   "source": [
    "model = new Model()\n",
    "model.train(df)\n",
    "model.predict"
   ]
  }
 ],
 "metadata": {
  "kernelspec": {
   "display_name": "Python 3",
   "language": "python",
   "name": "python3"
  },
  "language_info": {
   "codemirror_mode": {
    "name": "ipython",
    "version": 3
   },
   "file_extension": ".py",
   "mimetype": "text/x-python",
   "name": "python",
   "nbconvert_exporter": "python",
   "pygments_lexer": "ipython3",
   "version": "3.7.3"
  }
 },
 "nbformat": 4,
 "nbformat_minor": 4
}
